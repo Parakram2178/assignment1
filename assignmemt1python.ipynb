{
 "cells": [
  {
   "cell_type": "code",
   "execution_count": 3,
   "id": "69a46bbf-63f0-4d34-9769-8084b902f86f",
   "metadata": {},
   "outputs": [],
   "source": [
    " Q1='Guido van rossum'\n"
   ]
  },
  {
   "cell_type": "code",
   "execution_count": 7,
   "id": "59ad2833-d9a3-4242-887e-1dea61320132",
   "metadata": {},
   "outputs": [],
   "source": [
    "Q2=\"oop's\" and \"structured programming\""
   ]
  },
  {
   "cell_type": "code",
   "execution_count": 5,
   "id": "b2f7dde3-32f8-4258-8a15-406321525ecd",
   "metadata": {},
   "outputs": [],
   "source": [
    "Q3='yes'"
   ]
  },
  {
   "cell_type": "code",
   "execution_count": 8,
   "id": "8640952f-a2df-4511-8085-fb03633308e7",
   "metadata": {},
   "outputs": [],
   "source": [
    "Q4='.py extension'"
   ]
  },
  {
   "cell_type": "code",
   "execution_count": 9,
   "id": "96992645-a482-4153-8d2f-b587df5d0e76",
   "metadata": {},
   "outputs": [],
   "source": [
    "Q5='interpreted'"
   ]
  },
  {
   "cell_type": "code",
   "execution_count": 10,
   "id": "f936a8df-fbe8-4536-861d-a345bfa2b5c2",
   "metadata": {},
   "outputs": [],
   "source": [
    "Q6=\"indentation is used to define a block of code in python\""
   ]
  },
  {
   "cell_type": "code",
   "execution_count": 11,
   "id": "e8aa3d7c-eb09-41e5-8681-20110cb2d9e9",
   "metadata": {},
   "outputs": [],
   "source": [
    "Q7='hastag(#) is used to write single line comment'"
   ]
  },
  {
   "cell_type": "code",
   "execution_count": 12,
   "id": "bc4ba0e0-affe-4bce-afe9-d4e66b7484ab",
   "metadata": {},
   "outputs": [],
   "source": [
    "Q8='sys.version is used to version in python' "
   ]
  },
  {
   "cell_type": "code",
   "execution_count": 14,
   "id": "ed1e9d8c-244d-4d14-81cb-95d7395ee7b2",
   "metadata": {},
   "outputs": [],
   "source": [
    "Q9='lambda'"
   ]
  },
  {
   "cell_type": "code",
   "execution_count": 15,
   "id": "538f933a-71b7-45fb-a85d-d9078f5530b1",
   "metadata": {},
   "outputs": [],
   "source": [
    "Q10='PREFERRED INSTALLER PROGRAM'"
   ]
  },
  {
   "cell_type": "code",
   "execution_count": 16,
   "id": "6f70a78b-a4c2-456b-8b5c-625bdd3b5e18",
   "metadata": {},
   "outputs": [],
   "source": [
    "Q11=\"print(),type(),len(),input(),max(),sorted()\""
   ]
  },
  {
   "cell_type": "code",
   "execution_count": 17,
   "id": "0b266670-160c-472b-b095-3d224b7aa81d",
   "metadata": {},
   "outputs": [],
   "source": [
    "Q12='79 characters'"
   ]
  },
  {
   "cell_type": "code",
   "execution_count": 18,
   "id": "c67c3c26-71a2-481f-91c3-4151794c8952",
   "metadata": {},
   "outputs": [],
   "source": [
    "Q13='extensive libraries'\n"
   ]
  },
  {
   "cell_type": "code",
   "execution_count": 19,
   "id": "6273180f-3a8e-4c3c-81d3-0eafeec15713",
   "metadata": {},
   "outputs": [],
   "source": [
    "Q14='its involve management of private heap'"
   ]
  },
  {
   "cell_type": "code",
   "execution_count": 20,
   "id": "3ce112b1-c950-4df1-b2ec-14ac7b427eee",
   "metadata": {},
   "outputs": [],
   "source": [
    "Q15=''' right click this pc and going to properties. clicking on the advance system setting in the meun on the left.clickind on environment variableon the botton right. in system variable section selecting the path variable and clicking on edit.and clickingon new and entering python install directory'''"
   ]
  },
  {
   "cell_type": "code",
   "execution_count": 22,
   "id": "e62ff210-84dd-4c16-9596-a2314ae3a357",
   "metadata": {},
   "outputs": [
    {
     "ename": "SyntaxError",
     "evalue": "unterminated string literal (detected at line 1) (2478685717.py, line 1)",
     "output_type": "error",
     "traceback": [
      "\u001b[0;36m  Cell \u001b[0;32mIn[22], line 1\u001b[0;36m\u001b[0m\n\u001b[0;31m    \"Q15=\"YES\"\u001b[0m\n\u001b[0m             ^\u001b[0m\n\u001b[0;31mSyntaxError\u001b[0m\u001b[0;31m:\u001b[0m unterminated string literal (detected at line 1)\n"
     ]
    }
   ],
   "source": [
    "\"Q15=\"YES\""
   ]
  },
  {
   "cell_type": "code",
   "execution_count": null,
   "id": "7be48913-6c91-4b8e-80c4-477c7ce53d3c",
   "metadata": {},
   "outputs": [],
   "source": []
  }
 ],
 "metadata": {
  "kernelspec": {
   "display_name": "Python 3 (ipykernel)",
   "language": "python",
   "name": "python3"
  },
  "language_info": {
   "codemirror_mode": {
    "name": "ipython",
    "version": 3
   },
   "file_extension": ".py",
   "mimetype": "text/x-python",
   "name": "python",
   "nbconvert_exporter": "python",
   "pygments_lexer": "ipython3",
   "version": "3.10.8"
  }
 },
 "nbformat": 4,
 "nbformat_minor": 5
}
